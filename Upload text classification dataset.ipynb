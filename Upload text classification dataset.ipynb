{
 "cells": [
  {
   "cell_type": "code",
   "execution_count": null,
   "metadata": {},
   "outputs": [],
   "source": [
    "!huggingface-cli login"
   ]
  },
  {
   "cell_type": "code",
   "execution_count": null,
   "metadata": {},
   "outputs": [],
   "source": [
    "import pandas as pd\n",
    "\n",
    "df = pd.read_csv('es_fakenews_dataset.csv',  encoding='utf-8', sep='\\t')\n",
    "df"
   ]
  },
  {
   "cell_type": "code",
   "execution_count": null,
   "metadata": {},
   "outputs": [],
   "source": [
    "from datasets import Dataset\n",
    "\n",
    "# Convertir el dataframe de pandas a un dataset de Hugging Face\n",
    "dataset = Dataset.from_pandas(df)\n",
    "\n",
    "# El método train_test_split devuelve un diccionario con dos claves: train y test.\n",
    "dataset = dataset.train_test_split(test_size=0.3, shuffle=True, seed=13)\n",
    "\n",
    "# Si quiero un conjunto de validación, entonces divido nuevamente el conjunto de test.\n",
    "test_divided = dataset[\"test\"].train_test_split(test_size=0.5, shuffle=True, seed=13)\n",
    "dataset[\"test\"] = test_divided[\"test\"]\n",
    "dataset[\"validation\"] = test_divided[\"train\"]\n",
    "\n",
    "dataset.push_to_hub(\"es_fakenews_dataset\")"
   ]
  }
 ],
 "metadata": {
  "kernelspec": {
   "display_name": "Python 3",
   "language": "python",
   "name": "python3"
  },
  "language_info": {
   "name": "python",
   "version": "3.8.10"
  },
  "orig_nbformat": 4
 },
 "nbformat": 4,
 "nbformat_minor": 2
}
