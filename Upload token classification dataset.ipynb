{
 "cells": [
  {
   "cell_type": "code",
   "execution_count": null,
   "metadata": {},
   "outputs": [],
   "source": [
    "!huggingface-cli login"
   ]
  },
  {
   "cell_type": "code",
   "execution_count": null,
   "metadata": {},
   "outputs": [],
   "source": [
    "import pandas as pd\n",
    "\n",
    "data_file = \"data/es_nominal_group_dataset.pkl\"\n",
    "\n",
    "dataset = pd.read_pickle(data_file)\n",
    "dataset = dataset[[\"text\", \"tokens\", \"annotation\", \"metrics\"]]\n",
    "dataset"
   ]
  },
  {
   "cell_type": "code",
   "execution_count": null,
   "metadata": {},
   "outputs": [],
   "source": [
    "# Convert data to CoNLL format\n",
    "def to_conll_eval_format(data):\n",
    "    output = []\n",
    "    for d in data:\n",
    "        sentence_tags = []\n",
    "        for token in d['tokens']:\n",
    "            sentence_tags.append(token['tag'])\n",
    "        output.append(sentence_tags)\n",
    "    return output\n",
    "\n",
    "# Create a list of tokens\n",
    "tokens = dataset[\"tokens\"].tolist()\n",
    "\n",
    "# Create a list of CoNLL tags\n",
    "conll = to_conll_eval_format(dataset[\"metrics\"].tolist())\n",
    "conll_total = [c for s in conll for c in s]\n",
    "\n",
    "# Create a DataFrame with tokens and CoNLL tags\n",
    "data = pd.DataFrame({\"tokens\": tokens, \"ng_tags\": conll})\n",
    "\n",
    "# If any element in ng_tags is None, remove the whole row\n",
    "data[\"has_none\"] = data[\"ng_tags\"].apply(lambda x: None in x)\n",
    "\n",
    "# Drop rows with has_none = True\n",
    "data = data[data[\"has_none\"] == False].reset_index(drop=True)\n",
    "\n",
    "# Drop has_none column\n",
    "data = data.drop(columns=[\"has_none\"])\n",
    "\n",
    "# Create column id\n",
    "data = data.reset_index()\n",
    "# Rename index to id\n",
    "data = data.rename(columns={\"index\": \"id\"})\n",
    "\n",
    "data"
   ]
  },
  {
   "cell_type": "code",
   "execution_count": null,
   "metadata": {},
   "outputs": [],
   "source": [
    "from datasets import Dataset, Features, ClassLabel, Sequence, Value\n",
    "\n",
    "dataset = Dataset.from_pandas(data)\n",
    "\n",
    "new_features = Features(\n",
    "    {\n",
    "        'id': Value(dtype='int64', id=None),\n",
    "        'tokens': Sequence(feature=Value(dtype='string', id=None), length=-1, id=None),\n",
    "        'ng_tags': Sequence(feature=ClassLabel(names=['B-NG', 'I-NG', 'O'], id=None), length=-1, id=None),\n",
    "    }\n",
    ")\n",
    "\n",
    "# Cast the dataset with the updated features.\n",
    "dataset = dataset.cast(new_features)\n",
    "dataset\n"
   ]
  },
  {
   "cell_type": "code",
   "execution_count": null,
   "metadata": {},
   "outputs": [],
   "source": [
    "dataset.features[\"ng_tags\"].feature.names"
   ]
  },
  {
   "cell_type": "code",
   "execution_count": null,
   "metadata": {},
   "outputs": [],
   "source": [
    "# El método train_test_split devuelve un diccionario con dos claves: train y test.\n",
    "dataset = dataset.train_test_split(test_size=0.3, shuffle=True, seed=13)\n",
    "\n",
    "# Si quiero un conjunto de validación, entonces divido nuevamente el conjunto de test.\n",
    "test_divided = dataset[\"test\"].train_test_split(test_size=0.5, shuffle=True, seed=13)\n",
    "dataset[\"test\"] = test_divided[\"test\"]\n",
    "dataset[\"validation\"] = test_divided[\"train\"]\n",
    "dataset"
   ]
  },
  {
   "cell_type": "code",
   "execution_count": null,
   "metadata": {},
   "outputs": [],
   "source": [
    "dataset.push_to_hub(\"spanish_nominal_groups_conll2003\")"
   ]
  }
 ],
 "metadata": {
  "language_info": {
   "name": "python"
  },
  "orig_nbformat": 4
 },
 "nbformat": 4,
 "nbformat_minor": 2
}
